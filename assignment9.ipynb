{
  "nbformat": 4,
  "nbformat_minor": 0,
  "metadata": {
    "colab": {
      "name": "assignment9.ipynb",
      "provenance": [],
      "authorship_tag": "ABX9TyN6Ajvu3lVZGYj8klIYGSuJ",
      "include_colab_link": true
    },
    "kernelspec": {
      "name": "python3",
      "display_name": "Python 3"
    }
  },
  "cells": [
    {
      "cell_type": "markdown",
      "metadata": {
        "id": "view-in-github",
        "colab_type": "text"
      },
      "source": [
        "<a href=\"https://colab.research.google.com/github/Sushmaswaraj2020/Sushma_2020/blob/master/assignment9.ipynb\" target=\"_parent\"><img src=\"https://colab.research.google.com/assets/colab-badge.svg\" alt=\"Open In Colab\"/></a>"
      ]
    },
    {
      "cell_type": "code",
      "metadata": {
        "id": "CpGAnO2u8kYg",
        "colab_type": "code",
        "colab": {
          "base_uri": "https://localhost:8080/",
          "height": 34
        },
        "outputId": "969026f5-c813-4d91-9cea-17e7f63d444d"
      },
      "source": [
        "#Python program to multiplies all the items in a list.\n",
        "def multiply_list(items):\n",
        "    tot = 1\n",
        "    for x in items:\n",
        "        tot *= x\n",
        "    return tot\n",
        "print(multiply_list([1,2,-8]))"
      ],
      "execution_count": 1,
      "outputs": [
        {
          "output_type": "stream",
          "text": [
            "-16\n"
          ],
          "name": "stdout"
        }
      ]
    },
    {
      "cell_type": "code",
      "metadata": {
        "id": "CjbXj8Rb_gz8",
        "colab_type": "code",
        "colab": {
          "base_uri": "https://localhost:8080/",
          "height": 119
        },
        "outputId": "3674de18-6b7f-4656-db47-f96f8be03da5"
      },
      "source": [
        "#Python program to get the largest & smallest number from a list.\n",
        "list=[]\n",
        "num=int(input(\"how many numbers:\"))\n",
        "for n in range(num):\n",
        "    numbers=int(input(\"enter number\"))\n",
        "    list.append(numbers)\n",
        "print(\"maximum element in the list is:\",max(list))\n",
        "print(\"minimum element in the list is:\",min(list))"
      ],
      "execution_count": 3,
      "outputs": [
        {
          "output_type": "stream",
          "text": [
            "how many numbers:3\n",
            "enter number10\n",
            "enter number20\n",
            "enter number30\n",
            "maximum element in the list is: 30\n",
            "minimum element in the list is: 10\n"
          ],
          "name": "stdout"
        }
      ]
    },
    {
      "cell_type": "code",
      "metadata": {
        "id": "DHBEKnj7Ad8A",
        "colab_type": "code",
        "colab": {
          "base_uri": "https://localhost:8080/",
          "height": 34
        },
        "outputId": "fdab6ebe-98c3-4cd7-d974-c068a3f4ee02"
      },
      "source": [
        "#Python program to remove duplicates from a list.\n",
        "a=[10,20,30,20,10,50,60,40,80,50,40]\n",
        "dup_items=set()\n",
        "uniq_items=[]\n",
        "for x in a:\n",
        "    if x not in dup_items:\n",
        "        uniq_items.append(x)\n",
        "        dup_items.add(x)\n",
        "print(dup_items)"
      ],
      "execution_count": 4,
      "outputs": [
        {
          "output_type": "stream",
          "text": [
            "{40, 10, 80, 50, 20, 60, 30}\n"
          ],
          "name": "stdout"
        }
      ]
    },
    {
      "cell_type": "code",
      "metadata": {
        "id": "oVy2HN4jA-GD",
        "colab_type": "code",
        "colab": {
          "base_uri": "https://localhost:8080/",
          "height": 34
        },
        "outputId": "9fa63d7e-69ea-4701-ec3a-f60f7ad6f662"
      },
      "source": [
        "#Python program to check a list is empty or not.\n",
        "def enquiry(list1):\n",
        "    if len(list1)==0:\n",
        "        return 0\n",
        "    else:\n",
        "        return 1\n",
        "list1=[]\n",
        "if enquiry(list1):\n",
        "    print(\"the list is not empty\")\n",
        "else:\n",
        "    print(\"empty list\")"
      ],
      "execution_count": 5,
      "outputs": [
        {
          "output_type": "stream",
          "text": [
            "empty list\n"
          ],
          "name": "stdout"
        }
      ]
    },
    {
      "cell_type": "code",
      "metadata": {
        "id": "Rz4XN8YwBaXa",
        "colab_type": "code",
        "colab": {
          "base_uri": "https://localhost:8080/",
          "height": 34
        },
        "outputId": "0eacbce9-fb47-47c6-c15a-40575b21b693"
      },
      "source": [
        "#Python program to shuffle and print a specified list.\n",
        "from random import shuffle\n",
        "color=['red','green','white','black','pink','yellow']\n",
        "shuffle(color)\n",
        "print(color)"
      ],
      "execution_count": 6,
      "outputs": [
        {
          "output_type": "stream",
          "text": [
            "['white', 'yellow', 'pink', 'green', 'red', 'black']\n"
          ],
          "name": "stdout"
        }
      ]
    },
    {
      "cell_type": "code",
      "metadata": {
        "id": "EK3--61xBr_Q",
        "colab_type": "code",
        "colab": {
          "base_uri": "https://localhost:8080/",
          "height": 34
        },
        "outputId": "8c7f86fd-c14f-42df-cfce-3bff6a39ce47"
      },
      "source": [
        "#Python program to get the difference between the two lists.\n",
        "list1 = [10,30,45,60,75,90]\n",
        "list2 = [5,7,86,39,80,20,57,82]\n",
        "difference = []\n",
        "zip_object = zip(list1, list2)\n",
        "for list1_i, list2_i in zip_object:\n",
        "    difference.append(list1_i-list2_i)\n",
        "print(difference)"
      ],
      "execution_count": 14,
      "outputs": [
        {
          "output_type": "stream",
          "text": [
            "[5, 23, -41, 21, -5, 70]\n"
          ],
          "name": "stdout"
        }
      ]
    }
  ]
}
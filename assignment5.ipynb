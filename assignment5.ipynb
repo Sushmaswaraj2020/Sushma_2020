{
  "nbformat": 4,
  "nbformat_minor": 0,
  "metadata": {
    "colab": {
      "name": "assignment5.ipynb",
      "provenance": [],
      "authorship_tag": "ABX9TyMTJ+O0fqkC6hip4i4UVNOb",
      "include_colab_link": true
    },
    "kernelspec": {
      "name": "python3",
      "display_name": "Python 3"
    }
  },
  "cells": [
    {
      "cell_type": "markdown",
      "metadata": {
        "id": "view-in-github",
        "colab_type": "text"
      },
      "source": [
        "<a href=\"https://colab.research.google.com/github/Sushmaswaraj2020/Sushma_2020/blob/master/assignment5.ipynb\" target=\"_parent\"><img src=\"https://colab.research.google.com/assets/colab-badge.svg\" alt=\"Open In Colab\"/></a>"
      ]
    },
    {
      "cell_type": "code",
      "metadata": {
        "id": "eQ0h4EaJGBDh",
        "colab_type": "code",
        "colab": {
          "base_uri": "https://localhost:8080/",
          "height": 51
        },
        "outputId": "0c045cd3-2ca2-4686-a9b4-391920dcccc7"
      },
      "source": [
        "import math\n",
        "\n",
        "r = float(input('Enter the radius of the circle :'))\n",
        "area = math.pi * r * r\n",
        "\n",
        "print(\"Area of the circle is : %.2f\" %area)"
      ],
      "execution_count": null,
      "outputs": [
        {
          "output_type": "stream",
          "text": [
            "Enter the radius of the circle :3.5\n",
            "Area of the circle is : 38.48\n"
          ],
          "name": "stdout"
        }
      ]
    },
    {
      "cell_type": "code",
      "metadata": {
        "id": "648OT-eoHOJL",
        "colab_type": "code",
        "colab": {
          "base_uri": "https://localhost:8080/",
          "height": 68
        },
        "outputId": "ce84fb8f-8b63-4a1a-da15-4290ec42f907"
      },
      "source": [
        "from math import tan, pi\n",
        "n_sides = int(input(\"Input number of sides: \"))\n",
        "s_length = float(input(\"Input the length of a side: \"))\n",
        "p_area = n_sides * (s_length ** 2) / (4 * tan(pi / n_sides))\n",
        "print(\"The area of the polygon is: \",p_area)"
      ],
      "execution_count": null,
      "outputs": [
        {
          "output_type": "stream",
          "text": [
            "Input number of sides: 4\n",
            "Input the length of a side: 10\n",
            "The area of the polygon is:  100.00000000000001\n"
          ],
          "name": "stdout"
        }
      ]
    },
    {
      "cell_type": "code",
      "metadata": {
        "id": "GCDploylHGOX",
        "colab_type": "code",
        "colab": {
          "base_uri": "https://localhost:8080/",
          "height": 85
        },
        "outputId": "25c29921-5de7-40cf-9601-9b7980efd242"
      },
      "source": [
        "import math\n",
        "pi=3.142\n",
        "def segmentarea(r,angle):\n",
        "    areaofsector = pi * (r * r) * (angle / 360) \n",
        "    areaoftriangle = 1 / 2 *(r * r) *math.sin((angle * pi) / 180) \n",
        "  \n",
        "    return areaofsector - areaoftriangle; \n",
        "r=int(input(\"enter the radius\"))\n",
        "angle=int(input(\"enter the angle\"))\n",
        "print(\"area of minor segment=\",segmentarea(r,angle))\n",
        "print(\"area of major segment=\",segmentarea(r,(360-angle)))"
      ],
      "execution_count": 9,
      "outputs": [
        {
          "output_type": "stream",
          "text": [
            "enter the radius10\n",
            "enter the angle90\n",
            "area of minor segment= 28.550001037069357\n",
            "area of major segment= 285.649990666376\n"
          ],
          "name": "stdout"
        }
      ]
    },
    {
      "cell_type": "code",
      "metadata": {
        "id": "xlcxRT13HioL",
        "colab_type": "code",
        "colab": {
          "base_uri": "https://localhost:8080/",
          "height": 34
        },
        "outputId": "519272bb-e5eb-41ef-a54f-67070987f944"
      },
      "source": [
        "from random import shuffle\n",
        "l1 = [100,1,2,3,30,40,\"hai\",\"hello\"]\n",
        "shuffle(l1)\n",
        "print(l1)"
      ],
      "execution_count": 10,
      "outputs": [
        {
          "output_type": "stream",
          "text": [
            "[3, 2, 30, 'hello', 40, 'hai', 100, 1]\n"
          ],
          "name": "stdout"
        }
      ]
    },
    {
      "cell_type": "code",
      "metadata": {
        "id": "OfWgsaEjHtxr",
        "colab_type": "code",
        "colab": {
          "base_uri": "https://localhost:8080/",
          "height": 153
        },
        "outputId": "cee79956-cbef-420a-b664-d44f68350226"
      },
      "source": [
        "import random\n",
        "n = random.randint(1,1000)\n",
        "print(n)\n",
        "\n",
        "while(n<1000):\n",
        "    n=n+50\n",
        "    print(n)"
      ],
      "execution_count": 11,
      "outputs": [
        {
          "output_type": "stream",
          "text": [
            "665\n",
            "715\n",
            "765\n",
            "815\n",
            "865\n",
            "915\n",
            "965\n",
            "1015\n"
          ],
          "name": "stdout"
        }
      ]
    },
    {
      "cell_type": "code",
      "metadata": {
        "id": "ptg2WbdMH0QA",
        "colab_type": "code",
        "colab": {
          "base_uri": "https://localhost:8080/",
          "height": 34
        },
        "outputId": "08a1aa1f-532e-4c2c-e8fe-ce84e312012f"
      },
      "source": [
        "import math\n",
        "sine=math.sin(60)\n",
        "print(sine)"
      ],
      "execution_count": 12,
      "outputs": [
        {
          "output_type": "stream",
          "text": [
            "-0.3048106211022167\n"
          ],
          "name": "stdout"
        }
      ]
    },
    {
      "cell_type": "code",
      "metadata": {
        "id": "emeRUh_1H82Y",
        "colab_type": "code",
        "colab": {
          "base_uri": "https://localhost:8080/",
          "height": 34
        },
        "outputId": "64d82fea-fe3e-45a7-ea4c-14a6a8bcd5d2"
      },
      "source": [
        "import math\n",
        "co=math.cos(pi)\n",
        "print(co)"
      ],
      "execution_count": 13,
      "outputs": [
        {
          "output_type": "stream",
          "text": [
            "-0.9999999170344522\n"
          ],
          "name": "stdout"
        }
      ]
    },
    {
      "cell_type": "code",
      "metadata": {
        "id": "_KrdyYgKIFT0",
        "colab_type": "code",
        "colab": {
          "base_uri": "https://localhost:8080/",
          "height": 34
        },
        "outputId": "f4abcbed-3c92-455f-bc15-1b9be26cebaf"
      },
      "source": [
        "import math\n",
        "ta=math.tan(90)\n",
        "print(ta)"
      ],
      "execution_count": 14,
      "outputs": [
        {
          "output_type": "stream",
          "text": [
            "-1.995200412208242\n"
          ],
          "name": "stdout"
        }
      ]
    },
    {
      "cell_type": "code",
      "metadata": {
        "id": "UEw6SXvaILHa",
        "colab_type": "code",
        "colab": {
          "base_uri": "https://localhost:8080/",
          "height": 34
        },
        "outputId": "3c681051-93cc-4457-8758-35359dbb658a"
      },
      "source": [
        "import math\n",
        "\n",
        "print(math.sin((0.86602540378443860009)))"
      ],
      "execution_count": 15,
      "outputs": [
        {
          "output_type": "stream",
          "text": [
            "0.7617599814162892\n"
          ],
          "name": "stdout"
        }
      ]
    },
    {
      "cell_type": "code",
      "metadata": {
        "id": "dvFx7lWRIWXe",
        "colab_type": "code",
        "colab": {
          "base_uri": "https://localhost:8080/",
          "height": 34
        },
        "outputId": "6bb328ae-54fb-4594-b430-c57e01ddda63"
      },
      "source": [
        "print(5**8)"
      ],
      "execution_count": 16,
      "outputs": [
        {
          "output_type": "stream",
          "text": [
            "390625\n"
          ],
          "name": "stdout"
        }
      ]
    },
    {
      "cell_type": "code",
      "metadata": {
        "id": "n4H7GfzFIec7",
        "colab_type": "code",
        "colab": {
          "base_uri": "https://localhost:8080/",
          "height": 34
        },
        "outputId": "9c9aa25d-01b2-490d-bf93-5f49d2ea3207"
      },
      "source": [
        "print(400**0.5)"
      ],
      "execution_count": 17,
      "outputs": [
        {
          "output_type": "stream",
          "text": [
            "20.0\n"
          ],
          "name": "stdout"
        }
      ]
    },
    {
      "cell_type": "code",
      "metadata": {
        "id": "ssL6s37TIipC",
        "colab_type": "code",
        "colab": {
          "base_uri": "https://localhost:8080/",
          "height": 34
        },
        "outputId": "8cadc58e-508a-4bc8-fb46-366d5a305914"
      },
      "source": [
        "import math\n",
        "print(5*(math.e))"
      ],
      "execution_count": 18,
      "outputs": [
        {
          "output_type": "stream",
          "text": [
            "13.591409142295225\n"
          ],
          "name": "stdout"
        }
      ]
    },
    {
      "cell_type": "code",
      "metadata": {
        "id": "i8NMMrwbIljM",
        "colab_type": "code",
        "colab": {
          "base_uri": "https://localhost:8080/",
          "height": 34
        },
        "outputId": "d3edeb4a-865e-4d27-96cf-413eeceaa094"
      },
      "source": [
        "import math\n",
        "print(math.log2(1024))"
      ],
      "execution_count": 19,
      "outputs": [
        {
          "output_type": "stream",
          "text": [
            "10.0\n"
          ],
          "name": "stdout"
        }
      ]
    },
    {
      "cell_type": "code",
      "metadata": {
        "id": "eUkn9ut1Iq-R",
        "colab_type": "code",
        "colab": {
          "base_uri": "https://localhost:8080/",
          "height": 34
        },
        "outputId": "58d06e48-a108-4589-9e82-6c4114c1d2cc"
      },
      "source": [
        "import math\n",
        "print(math.log10(1024))"
      ],
      "execution_count": 20,
      "outputs": [
        {
          "output_type": "stream",
          "text": [
            "3.010299956639812\n"
          ],
          "name": "stdout"
        }
      ]
    },
    {
      "cell_type": "code",
      "metadata": {
        "id": "l2-E1c4tIvjw",
        "colab_type": "code",
        "colab": {
          "base_uri": "https://localhost:8080/",
          "height": 51
        },
        "outputId": "56c6be75-e97b-489d-9829-93780055b5fe"
      },
      "source": [
        "import math\n",
        "print(math.floor(23.56))\n",
        "print(math.ceil(23.56))"
      ],
      "execution_count": 21,
      "outputs": [
        {
          "output_type": "stream",
          "text": [
            "23\n",
            "24\n"
          ],
          "name": "stdout"
        }
      ]
    }
  ]
}
{
  "nbformat": 4,
  "nbformat_minor": 0,
  "metadata": {
    "colab": {
      "name": "Untitled7.ipynb",
      "provenance": [],
      "authorship_tag": "ABX9TyOuZL9E8SPymiJm6SAbGFHE",
      "include_colab_link": true
    },
    "kernelspec": {
      "name": "python3",
      "display_name": "Python 3"
    }
  },
  "cells": [
    {
      "cell_type": "markdown",
      "metadata": {
        "id": "view-in-github",
        "colab_type": "text"
      },
      "source": [
        "<a href=\"https://colab.research.google.com/github/Sushmaswaraj2020/Sushma_2020/blob/master/assignment4.ipynb\" target=\"_parent\"><img src=\"https://colab.research.google.com/assets/colab-badge.svg\" alt=\"Open In Colab\"/></a>"
      ]
    },
    {
      "cell_type": "code",
      "metadata": {
        "id": "bp0ykf6DBV04",
        "colab_type": "code",
        "colab": {
          "base_uri": "https://localhost:8080/",
          "height": 85
        },
        "outputId": "0020eab2-f14c-48e5-d220-273916a2238e"
      },
      "source": [
        "num1 = int(input(\"Enter first number: \"))\n",
        "num2 = int(input(\"Enter second number: \"))\n",
        "num3 = int(input(\"Enter third number: \"))\n",
        " \n",
        "if (num1 > num2) and (num1 > num3):\n",
        "   largest = num1\n",
        "elif (num2 > num1) and (num2 > num3):\n",
        "   largest = num2\n",
        "else:\n",
        "   largest = num3\n",
        " \n",
        "print(\"The largest number is\",largest)"
      ],
      "execution_count": 2,
      "outputs": [
        {
          "output_type": "stream",
          "text": [
            "Enter first number: 10\n",
            "Enter second number: 20\n",
            "Enter third number: 45\n",
            "The largest number is 45\n"
          ],
          "name": "stdout"
        }
      ]
    },
    {
      "cell_type": "code",
      "metadata": {
        "id": "DRN9DFr-CPnB",
        "colab_type": "code",
        "colab": {
          "base_uri": "https://localhost:8080/",
          "height": 34
        },
        "outputId": "18449ea8-81fc-4d19-9fcf-cec5c72dd743"
      },
      "source": [
        "def string_reverse(str1):\n",
        "\n",
        "    rstr1 = ''\n",
        "    index = len(str1)\n",
        "    while index > 0:\n",
        "        rstr1 += str1[ index - 1 ]\n",
        "        index = index - 1\n",
        "    return rstr1\n",
        "print(string_reverse('alekhya'))"
      ],
      "execution_count": 3,
      "outputs": [
        {
          "output_type": "stream",
          "text": [
            "ayhkela\n"
          ],
          "name": "stdout"
        }
      ]
    },
    {
      "cell_type": "code",
      "metadata": {
        "id": "mojokh2eCgt-",
        "colab_type": "code",
        "colab": {
          "base_uri": "https://localhost:8080/",
          "height": 34
        },
        "outputId": "1e726410-7990-4c9c-d7d9-9213bd93f6bb"
      },
      "source": [
        "num = 15\n",
        "if num > 1:  \n",
        "   for i in range(2, num):  \n",
        "       if (num % i) == 0: \n",
        "           print(num, \"is not a prime number\") \n",
        "           break\n",
        "   else: \n",
        "       print(num, \"is a prime number\") \n",
        "  \n",
        "else: \n",
        "   print(num, \"is not a prime number\") \n"
      ],
      "execution_count": 4,
      "outputs": [
        {
          "output_type": "stream",
          "text": [
            "15 is not a prime number\n"
          ],
          "name": "stdout"
        }
      ]
    },
    {
      "cell_type": "code",
      "metadata": {
        "id": "Dt-k6RAIDIHD",
        "colab_type": "code",
        "colab": {}
      },
      "source": [
        "def isPalindrome(word):\n",
        "    if len(word) < 1:\n",
        "        return True\n",
        "    else:\n",
        "        if word[0] == word[-1]:\n",
        "            return isPalindrome(word[1:-1])\n",
        "        else:\n",
        "            return False\n",
        "\n",
        "def fileInput(filename):\n",
        "    palindromes = False\n",
        "    fh = open(filename, \"r\")\n",
        "    length = input(\"Enter length of palindromes:\")\n",
        "    d = int(length)\n",
        "    try:\n",
        "        for line in fh:\n",
        "            for s in str(len(line)):\n",
        "                if isPalindrome(line.strip()):\n",
        "                    palindromes = True\n",
        "                    if (len(line.strip()) == d):\n",
        "                        print(line.strip())\n",
        "    except:\n",
        "        print(\"No palindromes found for length entered.\")\n",
        "    finally:\n",
        "        fh.close()"
      ],
      "execution_count": 12,
      "outputs": []
    },
    {
      "cell_type": "code",
      "metadata": {
        "id": "UVQF85RZE2jC",
        "colab_type": "code",
        "colab": {
          "base_uri": "https://localhost:8080/",
          "height": 34
        },
        "outputId": "8fe1cb2c-b8da-4719-816d-9f8365c3e5c8"
      },
      "source": [
        "def squaresum(n) : \n",
        "    sm = 0\n",
        "    for i in range(1, n+1) : \n",
        "        sm = sm + (i * i) \n",
        "        return sm \n",
        "n = 4\n",
        "print(squaresum(n)) \n",
        "  "
      ],
      "execution_count": 14,
      "outputs": [
        {
          "output_type": "stream",
          "text": [
            "1\n"
          ],
          "name": "stdout"
        }
      ]
    }
  ]
}
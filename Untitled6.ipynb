{
  "nbformat": 4,
  "nbformat_minor": 0,
  "metadata": {
    "colab": {
      "name": "Untitled6.ipynb",
      "provenance": [],
      "authorship_tag": "ABX9TyO/Nrx2kdAc+fbwwNgfM2MV",
      "include_colab_link": true
    },
    "kernelspec": {
      "name": "python3",
      "display_name": "Python 3"
    }
  },
  "cells": [
    {
      "cell_type": "markdown",
      "metadata": {
        "id": "view-in-github",
        "colab_type": "text"
      },
      "source": [
        "<a href=\"https://colab.research.google.com/github/Sushmaswaraj2020/Sushma_2020/blob/master/Untitled6.ipynb\" target=\"_parent\"><img src=\"https://colab.research.google.com/assets/colab-badge.svg\" alt=\"Open In Colab\"/></a>"
      ]
    },
    {
      "cell_type": "code",
      "metadata": {
        "id": "0fnUBz4CZttd",
        "colab_type": "code",
        "colab": {
          "base_uri": "https://localhost:8080/",
          "height": 68
        },
        "outputId": "fa5a466e-7930-461b-f3b3-720dc7d1b6a9"
      },
      "source": [
        "a = input(\"Enter the first number: \")\n",
        "b = input(\"Enter the second number: \")\n",
        "if a == b:\n",
        "  print (\"Both inputs are equal\")\n",
        "else:\n",
        "  print (\" input is not equal.\")"
      ],
      "execution_count": 10,
      "outputs": [
        {
          "output_type": "stream",
          "text": [
            "Enter the first number: 10\n",
            "Enter the second number: 10\n",
            "Both inputs are equal\n"
          ],
          "name": "stdout"
        }
      ]
    },
    {
      "cell_type": "code",
      "metadata": {
        "id": "wc2zMclTgMhf",
        "colab_type": "code",
        "colab": {
          "base_uri": "https://localhost:8080/",
          "height": 68
        },
        "outputId": "945a22ab-e7f2-4ba3-9608-5750a4b9a0e5"
      },
      "source": [
        "a = input(\"Enter the first number: \")\n",
        "b = input(\"Enter the second number: \")\n",
        "if a == b:\n",
        "  print (\"Both inputs are equal\")\n",
        "else:\n",
        "  print (\" input is not equal.\")"
      ],
      "execution_count": null,
      "outputs": [
        {
          "output_type": "stream",
          "text": [
            "Enter the first number: 20\n",
            "Enter the second number: 10\n",
            " input is not equal.\n"
          ],
          "name": "stdout"
        }
      ]
    },
    {
      "cell_type": "code",
      "metadata": {
        "id": "PvOTiVE5hg_p",
        "colab_type": "code",
        "colab": {
          "base_uri": "https://localhost:8080/",
          "height": 102
        },
        "outputId": "eeed9463-b737-461e-d9a0-969eba716853"
      },
      "source": [
        "num1=int(input(\"enter the first number\"))\n",
        "num2=int(input(\"enter the second number\"))\n",
        "num3=int(input(\"enter the third number\"))\n",
        "all = num1 == num2 and num2 == num3 and num3 == num1\n",
        "print (\"All are equal:\",all)\n",
        "any = num1 == num2 or num2 == num3 or num3 == num1\n",
        "print (\"Any of two are equal:\",any)"
      ],
      "execution_count": null,
      "outputs": [
        {
          "output_type": "stream",
          "text": [
            "enter the first number10\n",
            "enter the second number10\n",
            "enter the third number10\n",
            "All are equal: True\n",
            "Any of two are equal: True\n"
          ],
          "name": "stdout"
        }
      ]
    },
    {
      "cell_type": "code",
      "metadata": {
        "id": "acqJbaRqpL2Z",
        "colab_type": "code",
        "colab": {
          "base_uri": "https://localhost:8080/",
          "height": 102
        },
        "outputId": "1f0d0d4a-980d-4a87-a56a-793e37e6bc40"
      },
      "source": [
        "a=int(input(\"enter a first number\"))\n",
        "b=int(input(\"enter a second number\"))\n",
        "sum = a+b\n",
        "print (\"Sum is greater than 5:\",sum>5)\n",
        "print (\"Sum is equal to 5:\",sum==5)\n",
        "print (\"Sum is lesser than 5:\",sum<5)"
      ],
      "execution_count": null,
      "outputs": [
        {
          "output_type": "stream",
          "text": [
            "enter a first number3\n",
            "enter a second number2\n",
            "Sum is greater than 5: False\n",
            "Sum is equal to 5: True\n",
            "Sum is lesser than 5: False\n"
          ],
          "name": "stdout"
        }
      ]
    },
    {
      "cell_type": "code",
      "metadata": {
        "id": "Ir0fPEhfq5Zd",
        "colab_type": "code",
        "colab": {
          "base_uri": "https://localhost:8080/",
          "height": 51
        },
        "outputId": "a9daeb20-99fd-4fe7-98c8-d292c9c25b1f"
      },
      "source": [
        "pm = 35\n",
        "marks = int(input(\"enter the marks\"))\n",
        "print (\"Marks is greater than passing marks:\", marks>pm)"
      ],
      "execution_count": null,
      "outputs": [
        {
          "output_type": "stream",
          "text": [
            "enter the marks40\n",
            "Marks is greater than passing marks: True\n"
          ],
          "name": "stdout"
        }
      ]
    },
    {
      "cell_type": "code",
      "metadata": {
        "id": "F3t6hlMtrPi9",
        "colab_type": "code",
        "colab": {
          "base_uri": "https://localhost:8080/",
          "height": 34
        },
        "outputId": "448028ab-f9f6-4bd4-93f2-c969a1d5af6a"
      },
      "source": [
        "def maximum(a, b, c): \n",
        "  \n",
        "    if (a >= b) and (a >= c): \n",
        "        largest = a \n",
        "  \n",
        "    elif (b >= a) and (b >= c): \n",
        "        largest = b \n",
        "    else: \n",
        "        largest = c \n",
        "          \n",
        "    return largest   \n",
        "a = 10\n",
        "b = 14\n",
        "c = 12\n",
        "print(maximum(a, b, c)) "
      ],
      "execution_count": null,
      "outputs": [
        {
          "output_type": "stream",
          "text": [
            "14\n"
          ],
          "name": "stdout"
        }
      ]
    }
  ]
}
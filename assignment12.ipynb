{
  "nbformat": 4,
  "nbformat_minor": 0,
  "metadata": {
    "colab": {
      "name": "assignment12.ipynb",
      "provenance": [],
      "authorship_tag": "ABX9TyOCwfPZI20C9nzavLsS1noa",
      "include_colab_link": true
    },
    "kernelspec": {
      "name": "python3",
      "display_name": "Python 3"
    }
  },
  "cells": [
    {
      "cell_type": "markdown",
      "metadata": {
        "id": "view-in-github",
        "colab_type": "text"
      },
      "source": [
        "<a href=\"https://colab.research.google.com/github/Sushmaswaraj2020/Sushma_2020/blob/master/assignment12.ipynb\" target=\"_parent\"><img src=\"https://colab.research.google.com/assets/colab-badge.svg\" alt=\"Open In Colab\"/></a>"
      ]
    },
    {
      "cell_type": "code",
      "metadata": {
        "id": "-Jh2pCHTW91Q",
        "colab_type": "code",
        "colab": {
          "base_uri": "https://localhost:8080/",
          "height": 34
        },
        "outputId": "10400718-45c3-4132-9c41-30c691884dd8"
      },
      "source": [
        "# Python program to find sum of elements in list \n",
        "total = 0\n",
        "  \n",
        "# creating a list \n",
        "list1 = [11, 5, 17, 18, 23]  \n",
        "  \n",
        "# Iterate each element in list \n",
        "# and add them in variale total \n",
        "for ele in range(0, len(list1)): \n",
        "    total = total + list1[ele] \n",
        "  \n",
        "# printing total value \n",
        "print(\"Sum of all elements in given list: \", total) "
      ],
      "execution_count": 4,
      "outputs": [
        {
          "output_type": "stream",
          "text": [
            "Sum of all elements in given list:  74\n"
          ],
          "name": "stdout"
        }
      ]
    },
    {
      "cell_type": "code",
      "metadata": {
        "id": "Ph8pPQ0dX0R9",
        "colab_type": "code",
        "colab": {
          "base_uri": "https://localhost:8080/",
          "height": 34
        },
        "outputId": "ff9397d4-ac52-4fd4-c942-ca03c31f1995"
      },
      "source": [
        "#Write a Python program to create a list of empty dictionaries\n",
        "n = 5\n",
        "l = [{} for _ in range(n)]\n",
        "print(l)"
      ],
      "execution_count": 5,
      "outputs": [
        {
          "output_type": "stream",
          "text": [
            "[{}, {}, {}, {}, {}]\n"
          ],
          "name": "stdout"
        }
      ]
    },
    {
      "cell_type": "code",
      "metadata": {
        "id": "iwwVgmGNYK5s",
        "colab_type": "code",
        "colab": {
          "base_uri": "https://localhost:8080/",
          "height": 34
        },
        "outputId": "e84f9a10-162b-40af-e000-2dcfa8a599f9"
      },
      "source": [
        "#Write a Python program to access dictionary keys element by index.\n",
        "num = {'physics': 80, 'math': 90, 'chemistry': 86}\n",
        "print(list(num)[0])"
      ],
      "execution_count": 6,
      "outputs": [
        {
          "output_type": "stream",
          "text": [
            "physics\n"
          ],
          "name": "stdout"
        }
      ]
    },
    {
      "cell_type": "code",
      "metadata": {
        "id": "bhK8jQPIYkvV",
        "colab_type": "code",
        "colab": {
          "base_uri": "https://localhost:8080/",
          "height": 68
        },
        "outputId": "472f6229-d219-4cf1-df55-5a72f90dc81c"
      },
      "source": [
        "#Write a Python program to iterate over dictionaries using for loops\n",
        "d = {'Red': 1, 'Green': 2, 'Blue': 3} \n",
        "for color_key, value in d.items():\n",
        "     print(color_key, 'corresponds to ', d[color_key]) "
      ],
      "execution_count": 7,
      "outputs": [
        {
          "output_type": "stream",
          "text": [
            "Red corresponds to  1\n",
            "Green corresponds to  2\n",
            "Blue corresponds to  3\n"
          ],
          "name": "stdout"
        }
      ]
    },
    {
      "cell_type": "code",
      "metadata": {
        "id": "F_KKbPJdY0no",
        "colab_type": "code",
        "colab": {
          "base_uri": "https://localhost:8080/",
          "height": 34
        },
        "outputId": "c24fe6d8-9bbe-44bc-ef9a-ef5498872acc"
      },
      "source": [
        "#Write a Python program to sum all the items in a dictionary.\n",
        "my_dict = {'data1':100,'data2':-54,'data3':247}\n",
        "print(sum(my_dict.values()))"
      ],
      "execution_count": 8,
      "outputs": [
        {
          "output_type": "stream",
          "text": [
            "293\n"
          ],
          "name": "stdout"
        }
      ]
    },
    {
      "cell_type": "code",
      "metadata": {
        "id": "tphoz9ltZGlN",
        "colab_type": "code",
        "colab": {
          "base_uri": "https://localhost:8080/",
          "height": 34
        },
        "outputId": "96dc53c7-3800-426c-ecec-7a33fe3f0d93"
      },
      "source": [
        "#.Write a Python program to create a tuple\n",
        "my_tuple = 3, 4.6, \"dog\"\n",
        "print(my_tuple)"
      ],
      "execution_count": 9,
      "outputs": [
        {
          "output_type": "stream",
          "text": [
            "(3, 4.6, 'dog')\n"
          ],
          "name": "stdout"
        }
      ]
    },
    {
      "cell_type": "code",
      "metadata": {
        "id": "Ri1W6HsOZwA6",
        "colab_type": "code",
        "colab": {
          "base_uri": "https://localhost:8080/",
          "height": 34
        },
        "outputId": "311d6bce-40b8-4cee-9c4e-7fa73659d8ec"
      },
      "source": [
        "#Write a Python program to create a tuple with different data types\n",
        "tuplex = (\"tuple\", False, 3.2, 1)\n",
        "print(tuplex)"
      ],
      "execution_count": 10,
      "outputs": [
        {
          "output_type": "stream",
          "text": [
            "('tuple', False, 3.2, 1)\n"
          ],
          "name": "stdout"
        }
      ]
    },
    {
      "cell_type": "code",
      "metadata": {
        "id": "2fQYDC8oaFtB",
        "colab_type": "code",
        "colab": {
          "base_uri": "https://localhost:8080/",
          "height": 34
        },
        "outputId": "50e9bfe0-e475-462f-e167-39b384c16bdc"
      },
      "source": [
        "#Write a Python program to convert a tuple to a string\\\n",
        "def convertTuple(tup): \n",
        "    str =  ''.join(tup) \n",
        "    return str\n",
        "tuple = ('g', 'e', 'e', 'k', 's') \n",
        "str = convertTuple(tuple) \n",
        "print(str) "
      ],
      "execution_count": 11,
      "outputs": [
        {
          "output_type": "stream",
          "text": [
            "geeks\n"
          ],
          "name": "stdout"
        }
      ]
    },
    {
      "cell_type": "code",
      "metadata": {
        "id": "YHM2C-4pbHid",
        "colab_type": "code",
        "colab": {
          "base_uri": "https://localhost:8080/",
          "height": 34
        },
        "outputId": "e2734dcb-7365-406d-f588-509ef495d2f9"
      },
      "source": [
        "#Write a Python program to convert a tuple to a dictionary.\n",
        "tuplex = ((2, \"w\"),(3, \"r\"))\n",
        "print(dict((y, x) for x, y in tuplex))"
      ],
      "execution_count": 17,
      "outputs": [
        {
          "output_type": "stream",
          "text": [
            "{'w': 2, 'r': 3}\n"
          ],
          "name": "stdout"
        }
      ]
    },
    {
      "cell_type": "code",
      "metadata": {
        "id": "dNTyxiBkcKPG",
        "colab_type": "code",
        "colab": {
          "base_uri": "https://localhost:8080/",
          "height": 34
        },
        "outputId": "00d71021-7d6d-4738-d925-6870991ee4f9"
      },
      "source": [
        "#.Write a Python program to reverse a tuple\n",
        "def Reverse(tuples): \n",
        "    new_tup = tuples[::-1] \n",
        "    return new_tup \n",
        "tuples = ('z','a','d','f','g','e','e','k') \n",
        "print(Reverse(tuples)) "
      ],
      "execution_count": 18,
      "outputs": [
        {
          "output_type": "stream",
          "text": [
            "('k', 'e', 'e', 'g', 'f', 'd', 'a', 'z')\n"
          ],
          "name": "stdout"
        }
      ]
    }
  ]
}
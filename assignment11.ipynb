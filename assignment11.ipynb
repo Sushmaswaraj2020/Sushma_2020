{
  "nbformat": 4,
  "nbformat_minor": 0,
  "metadata": {
    "colab": {
      "name": "assignment11.ipynb",
      "provenance": [],
      "authorship_tag": "ABX9TyMrJ4GEicd/vhVLb0xRXXjl",
      "include_colab_link": true
    },
    "kernelspec": {
      "name": "python3",
      "display_name": "Python 3"
    }
  },
  "cells": [
    {
      "cell_type": "markdown",
      "metadata": {
        "id": "view-in-github",
        "colab_type": "text"
      },
      "source": [
        "<a href=\"https://colab.research.google.com/github/Sushmaswaraj2020/Sushma_2020/blob/master/assignment11.ipynb\" target=\"_parent\"><img src=\"https://colab.research.google.com/assets/colab-badge.svg\" alt=\"Open In Colab\"/></a>"
      ]
    },
    {
      "cell_type": "code",
      "metadata": {
        "id": "GzJkG1MlY3zl",
        "colab_type": "code",
        "colab": {
          "base_uri": "https://localhost:8080/",
          "height": 221
        },
        "outputId": "42e903e8-da06-4d9f-fb10-d0abf811183a"
      },
      "source": [
        "#Write a Python program to read first n lines of a file\n",
        "f=open(\"filename1.txt\",\"w\")\n",
        "f.write(\"line number is 1\\n\")\n",
        "f.write(\"line number is 2\\n\")\n",
        "f.write(\"line number is 3\\n\")\n",
        "f.write(\"line number is 4\\n\")\n",
        "f.write(\"line number is 5\\n\")\n",
        "f.write(\"line number is 6\\n\")\n",
        "f.write(\"line number is 7\\n\")\n",
        "f.close()\n",
        "a_file = open(\"filename1.txt\")\n",
        "number_of_lines = 6\n",
        "for i in range(number_of_lines):\n",
        "    line = a_file.readline()\n",
        "    print(line)"
      ],
      "execution_count": 5,
      "outputs": [
        {
          "output_type": "stream",
          "text": [
            "line number is 1\n",
            "\n",
            "line number is 2\n",
            "\n",
            "line number is 3\n",
            "\n",
            "line number is 4\n",
            "\n",
            "line number is 5\n",
            "\n",
            "line number is 6\n",
            "\n"
          ],
          "name": "stdout"
        }
      ]
    },
    {
      "cell_type": "code",
      "metadata": {
        "id": "5HpXCDYkbKzo",
        "colab_type": "code",
        "colab": {
          "base_uri": "https://localhost:8080/",
          "height": 51
        },
        "outputId": "3757bc10-4106-4d52-e02c-d256e2d14987"
      },
      "source": [
        "#Write a Python program to append text to a file and display the text. \n",
        "def file_read(fname):\n",
        "        from itertools import islice\n",
        "        with open(fname, \"w\") as myfile:\n",
        "                myfile.write(\"Python Exercises\\n\")\n",
        "                myfile.write(\"Java Exercises\")\n",
        "        txt = open(fname)\n",
        "        print(txt.read())\n",
        "file_read('abc.txt')"
      ],
      "execution_count": 6,
      "outputs": [
        {
          "output_type": "stream",
          "text": [
            "Python Exercises\n",
            "Java Exercises\n"
          ],
          "name": "stdout"
        }
      ]
    },
    {
      "cell_type": "code",
      "metadata": {
        "id": "wRy0733Obocn",
        "colab_type": "code",
        "colab": {
          "base_uri": "https://localhost:8080/",
          "height": 68
        },
        "outputId": "51db80a4-9cd1-481d-e865-a1551f157bfa"
      },
      "source": [
        "#Write a Python program to read a file line by line and store it into a list.\n",
        "L = [\"Geeks\\n\", \"for\\n\", \"Geeks\\n\"] \n",
        "file1 = open('myfile.txt', 'w') \n",
        "file1.writelines(L) \n",
        "file1.close() \n",
        "file1 = open('myfile.txt', 'r') \n",
        "Lines = file1.readlines() \n",
        "count = 0\n",
        "for line in Lines: \n",
        "    print(\"Line{}: {}\".format(count, line.strip())) "
      ],
      "execution_count": 14,
      "outputs": [
        {
          "output_type": "stream",
          "text": [
            "Line0: Geeks\n",
            "Line0: for\n",
            "Line0: Geeks\n"
          ],
          "name": "stdout"
        }
      ]
    },
    {
      "cell_type": "code",
      "metadata": {
        "id": "Wvsx3J5jfXOu",
        "colab_type": "code",
        "colab": {
          "base_uri": "https://localhost:8080/",
          "height": 231
        },
        "outputId": "349521ed-0bb2-4f15-aaad-52a76f049b3b"
      },
      "source": [
        " #Write a Python program to count the number of lines in a text file. \n",
        " fname = \"one.txt\"\n",
        "count = 0\n",
        "with open(fname, 'r') as f:\n",
        "    for line in f:\n",
        "        count += 1\n",
        "print(\"Total number of lines is:\", count)\n"
      ],
      "execution_count": 19,
      "outputs": [
        {
          "output_type": "error",
          "ename": "FileNotFoundError",
          "evalue": "ignored",
          "traceback": [
            "\u001b[0;31m---------------------------------------------------------------------------\u001b[0m",
            "\u001b[0;31mFileNotFoundError\u001b[0m                         Traceback (most recent call last)",
            "\u001b[0;32m<ipython-input-19-cfd4739a98ec>\u001b[0m in \u001b[0;36m<module>\u001b[0;34m()\u001b[0m\n\u001b[1;32m      2\u001b[0m \u001b[0mfname\u001b[0m \u001b[0;34m=\u001b[0m \u001b[0;34m\"one.txt\"\u001b[0m\u001b[0;34m\u001b[0m\u001b[0;34m\u001b[0m\u001b[0m\n\u001b[1;32m      3\u001b[0m \u001b[0mcount\u001b[0m \u001b[0;34m=\u001b[0m \u001b[0;36m0\u001b[0m\u001b[0;34m\u001b[0m\u001b[0;34m\u001b[0m\u001b[0m\n\u001b[0;32m----> 4\u001b[0;31m \u001b[0;32mwith\u001b[0m \u001b[0mopen\u001b[0m\u001b[0;34m(\u001b[0m\u001b[0mfname\u001b[0m\u001b[0;34m,\u001b[0m \u001b[0;34m'r'\u001b[0m\u001b[0;34m)\u001b[0m \u001b[0;32mas\u001b[0m \u001b[0mf\u001b[0m\u001b[0;34m:\u001b[0m\u001b[0;34m\u001b[0m\u001b[0;34m\u001b[0m\u001b[0m\n\u001b[0m\u001b[1;32m      5\u001b[0m    \u001b[0;32mfor\u001b[0m \u001b[0mline\u001b[0m \u001b[0;32min\u001b[0m \u001b[0mf\u001b[0m\u001b[0;34m:\u001b[0m\u001b[0;34m\u001b[0m\u001b[0;34m\u001b[0m\u001b[0m\n\u001b[1;32m      6\u001b[0m        \u001b[0mcount\u001b[0m \u001b[0;34m+=\u001b[0m \u001b[0;36m1\u001b[0m\u001b[0;34m\u001b[0m\u001b[0;34m\u001b[0m\u001b[0m\n",
            "\u001b[0;31mFileNotFoundError\u001b[0m: [Errno 2] No such file or directory: 'one.txt'"
          ]
        }
      ]
    },
    {
      "cell_type": "code",
      "metadata": {
        "id": "Fn0oQDRChBGg",
        "colab_type": "code",
        "colab": {
          "base_uri": "https://localhost:8080/",
          "height": 129
        },
        "outputId": "a3565c14-7cec-42b6-d0d5-c958c5f36d88"
      },
      "source": [
        "#Write a Python program to get the file size of a plain file.\n",
        "def getSize(fileobject):\n",
        "    fileobject.seek(0,2) # move the cursor to the end of the file\n",
        "    size = fileobject.tell()\n",
        "    return size\n",
        "\n",
        "file = open('myfile.bin', 'rb')\n",
        "print getSize(file)"
      ],
      "execution_count": 20,
      "outputs": [
        {
          "output_type": "error",
          "ename": "SyntaxError",
          "evalue": "ignored",
          "traceback": [
            "\u001b[0;36m  File \u001b[0;32m\"<ipython-input-20-100a6c09d58e>\"\u001b[0;36m, line \u001b[0;32m8\u001b[0m\n\u001b[0;31m    print getSize(file)\u001b[0m\n\u001b[0m                ^\u001b[0m\n\u001b[0;31mSyntaxError\u001b[0m\u001b[0;31m:\u001b[0m invalid syntax\n"
          ]
        }
      ]
    },
    {
      "cell_type": "code",
      "metadata": {
        "id": "k1BRi5QuhbVR",
        "colab_type": "code",
        "colab": {
          "base_uri": "https://localhost:8080/",
          "height": 231
        },
        "outputId": "49b3d0c7-9f08-4cd3-a63a-4febda7bbb16"
      },
      "source": [
        "#Write a Python program to copy the contents of a file to another file .\n",
        "fn = open('bcd.txt', 'r') \n",
        "  \n",
        "# open other file in write mode \n",
        "fn1 = open('nfile.txt', 'w') \n",
        "  \n",
        "# read the content of the file line by line \n",
        "cont = fn.readlines() \n",
        "type(cont) \n",
        "for i in range(0, len(cont)): \n",
        "    if(i%2!= 0): \n",
        "        fn1.write(cont[i]) \n",
        "    else: \n",
        "        pass\n",
        "  \n",
        "# close the file \n",
        "fn1.close() \n",
        "  \n",
        "# open file in read mode \n",
        "fn1 = open('nfile.txt', 'r') \n",
        "  \n",
        "# read the content of the file \n",
        "cont1 = fn1.read() \n",
        "  \n",
        "# print the content of the file \n",
        "print(cont1) \n",
        "  \n",
        "# close all files \n",
        "fn.close() \n",
        "fn1.close() "
      ],
      "execution_count": 24,
      "outputs": [
        {
          "output_type": "error",
          "ename": "FileNotFoundError",
          "evalue": "ignored",
          "traceback": [
            "\u001b[0;31m---------------------------------------------------------------------------\u001b[0m",
            "\u001b[0;31mFileNotFoundError\u001b[0m                         Traceback (most recent call last)",
            "\u001b[0;32m<ipython-input-24-061607cb811f>\u001b[0m in \u001b[0;36m<module>\u001b[0;34m()\u001b[0m\n\u001b[1;32m      1\u001b[0m \u001b[0;31m#Write a Python program to copy the contents of a file to another file .\u001b[0m\u001b[0;34m\u001b[0m\u001b[0;34m\u001b[0m\u001b[0;34m\u001b[0m\u001b[0m\n\u001b[0;32m----> 2\u001b[0;31m \u001b[0mfn\u001b[0m \u001b[0;34m=\u001b[0m \u001b[0mopen\u001b[0m\u001b[0;34m(\u001b[0m\u001b[0;34m'bcd.txt'\u001b[0m\u001b[0;34m,\u001b[0m \u001b[0;34m'r'\u001b[0m\u001b[0;34m)\u001b[0m\u001b[0;34m\u001b[0m\u001b[0;34m\u001b[0m\u001b[0m\n\u001b[0m\u001b[1;32m      3\u001b[0m \u001b[0;34m\u001b[0m\u001b[0m\n\u001b[1;32m      4\u001b[0m \u001b[0;31m# open other file in write mode\u001b[0m\u001b[0;34m\u001b[0m\u001b[0;34m\u001b[0m\u001b[0;34m\u001b[0m\u001b[0m\n\u001b[1;32m      5\u001b[0m \u001b[0mfn1\u001b[0m \u001b[0;34m=\u001b[0m \u001b[0mopen\u001b[0m\u001b[0;34m(\u001b[0m\u001b[0;34m'nfile.txt'\u001b[0m\u001b[0;34m,\u001b[0m \u001b[0;34m'w'\u001b[0m\u001b[0;34m)\u001b[0m\u001b[0;34m\u001b[0m\u001b[0;34m\u001b[0m\u001b[0m\n",
            "\u001b[0;31mFileNotFoundError\u001b[0m: [Errno 2] No such file or directory: 'bcd.txt'"
          ]
        }
      ]
    }
  ]
}
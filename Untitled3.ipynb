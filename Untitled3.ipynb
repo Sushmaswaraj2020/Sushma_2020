{
  "nbformat": 4,
  "nbformat_minor": 0,
  "metadata": {
    "colab": {
      "name": "Untitled3.ipynb",
      "provenance": []
    },
    "kernelspec": {
      "name": "python3",
      "display_name": "Python 3"
    }
  },
  "cells": [
    {
      "cell_type": "markdown",
      "metadata": {
        "id": "YT0O3t1s0UjS",
        "colab_type": "text"
      },
      "source": [
        ""
      ]
    },
    {
      "cell_type": "code",
      "metadata": {
        "id": "ixFrys-zFX1i",
        "colab_type": "code",
        "colab": {
          "base_uri": "https://localhost:8080/",
          "height": 34
        },
        "outputId": "0d2ebad5-19dd-43f4-b998-44cac784530d"
      },
      "source": [
        "sum=2+6\n",
        "print (sum)"
      ],
      "execution_count": 5,
      "outputs": [
        {
          "output_type": "stream",
          "text": [
            "8\n"
          ],
          "name": "stdout"
        }
      ]
    },
    {
      "cell_type": "code",
      "metadata": {
        "id": "LBLhob_JFl7L",
        "colab_type": "code",
        "colab": {
          "base_uri": "https://localhost:8080/",
          "height": 34
        },
        "outputId": "ddf5010e-0669-4b90-8240-0bff9c2be751"
      },
      "source": [
        "sub=9-2\n",
        "print (sub)"
      ],
      "execution_count": 6,
      "outputs": [
        {
          "output_type": "stream",
          "text": [
            "7\n"
          ],
          "name": "stdout"
        }
      ]
    },
    {
      "cell_type": "code",
      "metadata": {
        "id": "kJWYumSSFzYV",
        "colab_type": "code",
        "colab": {
          "base_uri": "https://localhost:8080/",
          "height": 34
        },
        "outputId": "759e21cb-f7ca-4185-e827-35a3c6f18282"
      },
      "source": [
        "mul=67*56\n",
        "print(mul)"
      ],
      "execution_count": 7,
      "outputs": [
        {
          "output_type": "stream",
          "text": [
            "3752\n"
          ],
          "name": "stdout"
        }
      ]
    },
    {
      "cell_type": "code",
      "metadata": {
        "id": "MloLozybF9Yx",
        "colab_type": "code",
        "colab": {
          "base_uri": "https://localhost:8080/",
          "height": 34
        },
        "outputId": "14da5c3f-6053-4c8e-f6a3-314363ddeffe"
      },
      "source": [
        "div=12/6\n",
        "print(div)"
      ],
      "execution_count": 8,
      "outputs": [
        {
          "output_type": "stream",
          "text": [
            "2.0\n"
          ],
          "name": "stdout"
        }
      ]
    },
    {
      "cell_type": "code",
      "metadata": {
        "id": "Dor8EeQJGwR6",
        "colab_type": "code",
        "colab": {
          "base_uri": "https://localhost:8080/",
          "height": 34
        },
        "outputId": "ffb44d84-edd7-460c-e192-f5422d99867f"
      },
      "source": [
        "mod=45%5\n",
        "print(mod)"
      ],
      "execution_count": 9,
      "outputs": [
        {
          "output_type": "stream",
          "text": [
            "0\n"
          ],
          "name": "stdout"
        }
      ]
    },
    {
      "cell_type": "code",
      "metadata": {
        "id": "aRtwLcxwG9X6",
        "colab_type": "code",
        "colab": {
          "base_uri": "https://localhost:8080/",
          "height": 34
        },
        "outputId": "d0db8352-a808-4c1e-f4da-781df5f52544"
      },
      "source": [
        "exp=4**5\n",
        "print(exp)"
      ],
      "execution_count": 10,
      "outputs": [
        {
          "output_type": "stream",
          "text": [
            "1024\n"
          ],
          "name": "stdout"
        }
      ]
    },
    {
      "cell_type": "code",
      "metadata": {
        "id": "OIvNE1Z6HFm2",
        "colab_type": "code",
        "colab": {
          "base_uri": "https://localhost:8080/",
          "height": 34
        },
        "outputId": "9b12e0b8-0096-4536-910c-11a0f8b45a4f"
      },
      "source": [
        "floor_div=23//2\n",
        "print(floor_div)"
      ],
      "execution_count": 11,
      "outputs": [
        {
          "output_type": "stream",
          "text": [
            "11\n"
          ],
          "name": "stdout"
        }
      ]
    },
    {
      "cell_type": "code",
      "metadata": {
        "id": "K0-XAGrQHVfR",
        "colab_type": "code",
        "colab": {
          "base_uri": "https://localhost:8080/",
          "height": 34
        },
        "outputId": "35987453-b079-4cf2-bda0-fe08e9b7210f"
      },
      "source": [
        "#to calculate the simple interest\n",
        "P = 2000\n",
        "R = 3\n",
        "T = 2\n",
        "# simple interest\n",
        "SI = (P * R * T) / 100\n",
        "print(\"simple interest is\", SI)"
      ],
      "execution_count": 12,
      "outputs": [
        {
          "output_type": "stream",
          "text": [
            "simple interest is 120.0\n"
          ],
          "name": "stdout"
        }
      ]
    },
    {
      "cell_type": "code",
      "metadata": {
        "id": "Kslewzg8IDBD",
        "colab_type": "code",
        "colab": {
          "base_uri": "https://localhost:8080/",
          "height": 34
        },
        "outputId": "8281380a-b6a4-4a01-afe2-cdb8b424d8fb"
      },
      "source": [
        "#program to calculate the area of the circle\n",
        "def findArea(r):\n",
        "   PI = 3.142\n",
        "   return PI * (r*r);\n",
        "print(\"Area is %.6f\" % findArea(5));"
      ],
      "execution_count": 22,
      "outputs": [
        {
          "output_type": "stream",
          "text": [
            "Area is 78.550000\n"
          ],
          "name": "stdout"
        }
      ]
    },
    {
      "cell_type": "code",
      "metadata": {
        "id": "gAiV2q2xJxQt",
        "colab_type": "code",
        "colab": {
          "base_uri": "https://localhost:8080/",
          "height": 85
        },
        "outputId": "dcb23b3b-0811-45de-81f4-5b14f5eb52d9"
      },
      "source": [
        "#calculate the area of the triangle\n",
        "a = float(input('Enter first side: ') )\n",
        "b = float(input('Enter second side: '))  \n",
        "c = float(input('Enter third side: '))  \n",
        "s = (a + b + c) / 2  \n",
        "area = (s*(s-a)*(s-b)*(s-c)) ** 0.5  \n",
        "print('The area of the triangle is %0.2f' %area)   "
      ],
      "execution_count": 23,
      "outputs": [
        {
          "output_type": "stream",
          "text": [
            "Enter first side: 10\n",
            "Enter second side: 5\n",
            "Enter third side: 6\n",
            "The area of the triangle is 11.40\n"
          ],
          "name": "stdout"
        }
      ]
    },
    {
      "cell_type": "code",
      "metadata": {
        "id": "YzeZu1TvK3Fj",
        "colab_type": "code",
        "colab": {
          "base_uri": "https://localhost:8080/",
          "height": 34
        },
        "outputId": "c0d0ed36-fd5b-4ecf-de44-c50de921cb51"
      },
      "source": [
        "#program to temperature in celsius to faharenite\n",
        "celsius = 23.6\n",
        "fahrenheit = (celsius * 1.8) + 32\n",
        "print('%0.1f degree Celsius is equal to %0.1f degree Fahrenheit' %(celsius,fahrenheit))\n",
        "\n",
        "\n"
      ],
      "execution_count": 25,
      "outputs": [
        {
          "output_type": "stream",
          "text": [
            "23.6 degree Celsius is equal to 74.5 degree Fahrenheit\n"
          ],
          "name": "stdout"
        }
      ]
    },
    {
      "cell_type": "code",
      "metadata": {
        "id": "kA4GjFOoL-Ug",
        "colab_type": "code",
        "colab": {
          "base_uri": "https://localhost:8080/",
          "height": 68
        },
        "outputId": "8047dbb3-5011-4d64-be48-e1811e5dc807"
      },
      "source": [
        "#program to calculate the area of the rectangle\n",
        "length = float(input('Please Enter the Length of a Triangle: '))\n",
        "width = float(input('Please Enter the Width of a Triangle: '))\n",
        "area = length * width\n",
        "\n",
        "print(\"The Area of a Rectangle using\", length, \"and\", width, \" = \", area)"
      ],
      "execution_count": 26,
      "outputs": [
        {
          "output_type": "stream",
          "text": [
            "Please Enter the Length of a Triangle: 4\n",
            "Please Enter the Width of a Triangle: 6\n",
            "The Area of a Rectangle using 4.0 and 6.0  =  24.0\n"
          ],
          "name": "stdout"
        }
      ]
    },
    {
      "cell_type": "code",
      "metadata": {
        "id": "-P2QBVBqMqZd",
        "colab_type": "code",
        "colab": {
          "base_uri": "https://localhost:8080/",
          "height": 85
        },
        "outputId": "894690eb-12b3-42ed-e6d2-0e3ca715842e"
      },
      "source": [
        "#program to calculate perimeter of the square\n",
        "print(\"Enter 'x' for exit.\");\n",
        "side = input(\"Enter side length of square: \");\n",
        "if side == 'x':\n",
        "    exit();\n",
        "else:\n",
        "    slength = int(side);\n",
        "    perimeter = 4*slength;\n",
        "    print(\"\\nPerimeter of Square:\", perimeter);"
      ],
      "execution_count": 27,
      "outputs": [
        {
          "output_type": "stream",
          "text": [
            "Enter 'x' for exit.\n",
            "Enter side length of square: 6\n",
            "\n",
            "Perimeter of Square: 24\n"
          ],
          "name": "stdout"
        }
      ]
    },
    {
      "cell_type": "code",
      "metadata": {
        "id": "-aqRZjq6NuRM",
        "colab_type": "code",
        "colab": {
          "base_uri": "https://localhost:8080/",
          "height": 51
        },
        "outputId": "d4079a7c-ca42-4f18-9d02-cdb123a26aa4"
      },
      "source": [
        "#program to calculate circumference of a circle\n",
        "import math\n",
        "\n",
        "radius = float(input(\"Enter the radius of the circle : \"))\n",
        "\n",
        "circumference = 2 * math.pi * radius\n",
        "\n",
        "print(\"Circumference of the circle is : %.2f\" % circumference)"
      ],
      "execution_count": 28,
      "outputs": [
        {
          "output_type": "stream",
          "text": [
            "Enter the radius of the circle : 3\n",
            "Circumference of the circle is : 18.85\n"
          ],
          "name": "stdout"
        }
      ]
    },
    {
      "cell_type": "code",
      "metadata": {
        "id": "D6W12zl7Ok4F",
        "colab_type": "code",
        "colab": {
          "base_uri": "https://localhost:8080/",
          "height": 51
        },
        "outputId": "67bcfa32-7e65-47f2-dc50-28b5360da574"
      },
      "source": [
        "#program to swap two numbers\n",
        "x = 5\n",
        "y =10\n",
        "temp = x\n",
        "x = y\n",
        "y = temp\n",
        "\n",
        "print('The value of x after swapping: {}'.format(x))\n",
        "print('The value of y after swapping: {}'.format(y))"
      ],
      "execution_count": 29,
      "outputs": [
        {
          "output_type": "stream",
          "text": [
            "The value of x after swapping: 10\n",
            "The value of y after swapping: 5\n"
          ],
          "name": "stdout"
        }
      ]
    }
  ]
}
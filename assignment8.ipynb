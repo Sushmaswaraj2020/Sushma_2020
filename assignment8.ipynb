{
  "nbformat": 4,
  "nbformat_minor": 0,
  "metadata": {
    "colab": {
      "name": "assignment8.ipynb",
      "provenance": [],
      "authorship_tag": "ABX9TyNIGkT0h7M/nH7W0TssUI76",
      "include_colab_link": true
    },
    "kernelspec": {
      "name": "python3",
      "display_name": "Python 3"
    }
  },
  "cells": [
    {
      "cell_type": "markdown",
      "metadata": {
        "id": "view-in-github",
        "colab_type": "text"
      },
      "source": [
        "<a href=\"https://colab.research.google.com/github/Sushmaswaraj2020/Sushma_2020/blob/master/assignment8.ipynb\" target=\"_parent\"><img src=\"https://colab.research.google.com/assets/colab-badge.svg\" alt=\"Open In Colab\"/></a>"
      ]
    },
    {
      "cell_type": "code",
      "metadata": {
        "id": "vNTccbcAGQKO",
        "colab_type": "code",
        "colab": {
          "base_uri": "https://localhost:8080/",
          "height": 68
        },
        "outputId": "371eff2e-26ed-40e4-87db-ef1c6e5a1513"
      },
      "source": [
        "#to remove the newlines\n",
        "str1='Sushma swaraj\\n'\n",
        "print(str1)\n",
        "print(str1.rstrip())"
      ],
      "execution_count": 2,
      "outputs": [
        {
          "output_type": "stream",
          "text": [
            "Sushma swaraj\n",
            "\n",
            "Sushma swaraj\n"
          ],
          "name": "stdout"
        }
      ]
    },
    {
      "cell_type": "code",
      "metadata": {
        "id": "n35bblMfPQ_Z",
        "colab_type": "code",
        "colab": {
          "base_uri": "https://localhost:8080/",
          "height": 34
        },
        "outputId": "77aac330-cf86-41c4-d801-79fc1dbde412"
      },
      "source": [
        "#program to count occurrences of a substring in a string.\n",
        "string = \"geeks for geeks\" \n",
        "print(string.count(\"geeks\")) "
      ],
      "execution_count": 3,
      "outputs": [
        {
          "output_type": "stream",
          "text": [
            "2\n"
          ],
          "name": "stdout"
        }
      ]
    },
    {
      "cell_type": "code",
      "metadata": {
        "id": "q_wDZUO6QMph",
        "colab_type": "code",
        "colab": {
          "base_uri": "https://localhost:8080/",
          "height": 34
        },
        "outputId": "2786ac4d-7a2c-4d8d-fc36-b1bba2cf4c86"
      },
      "source": [
        "#Write a Python program to convert a string in a list.\n",
        "def Convert(string): \n",
        "    li = list(string.split(\" \")) \n",
        "    return li      \n",
        "str1 = \"Geeks for Geeks\"\n",
        "print(Convert(str1)) "
      ],
      "execution_count": 4,
      "outputs": [
        {
          "output_type": "stream",
          "text": [
            "['Geeks', 'for', 'Geeks']\n"
          ],
          "name": "stdout"
        }
      ]
    },
    {
      "cell_type": "code",
      "metadata": {
        "id": "2MadnTzVRltR",
        "colab_type": "code",
        "colab": {
          "base_uri": "https://localhost:8080/",
          "height": 51
        },
        "outputId": "b6bde8a0-d52d-4166-c1de-494143e24c6a"
      },
      "source": [
        "#Python program to perform Deletion of a character \n",
        "s = input(\"enter the string:\")\n",
        "print(s.replace('a', ''))"
      ],
      "execution_count": 5,
      "outputs": [
        {
          "output_type": "stream",
          "text": [
            "enter the string:bangalore\n",
            "bnglore\n"
          ],
          "name": "stdout"
        }
      ]
    },
    {
      "cell_type": "code",
      "metadata": {
        "id": "cDn7MN8dVJ9K",
        "colab_type": "code",
        "colab": {
          "base_uri": "https://localhost:8080/",
          "height": 136
        },
        "outputId": "46a4e6b5-2195-4f7f-d301-abed9a9840b8"
      },
      "source": [
        "#program to print every character of a string entered by user in a new line using loop. \n",
        "a = input(\"enter a string\")\n",
        "for i in a:\n",
        "  print (i)"
      ],
      "execution_count": 8,
      "outputs": [
        {
          "output_type": "stream",
          "text": [
            "enter a stringsushma\n",
            "s\n",
            "u\n",
            "s\n",
            "h\n",
            "m\n",
            "a\n"
          ],
          "name": "stdout"
        }
      ]
    },
    {
      "cell_type": "code",
      "metadata": {
        "id": "9hNTwDEyXmfV",
        "colab_type": "code",
        "colab": {
          "base_uri": "https://localhost:8080/",
          "height": 34
        },
        "outputId": "7786c291-292f-472f-baa5-eabf127092f5"
      },
      "source": [
        "#program to find the length of the string \"refrigerator\" without using len function. \n",
        "a = \"refrigerator\"\n",
        "count = 0\n",
        "for i in a:\n",
        "  count = count+1\n",
        "print (count)"
      ],
      "execution_count": 9,
      "outputs": [
        {
          "output_type": "stream",
          "text": [
            "12\n"
          ],
          "name": "stdout"
        }
      ]
    }
  ]
}
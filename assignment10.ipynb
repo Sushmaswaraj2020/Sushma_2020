{
  "nbformat": 4,
  "nbformat_minor": 0,
  "metadata": {
    "colab": {
      "name": "assignment10.ipynb",
      "provenance": [],
      "authorship_tag": "ABX9TyNM9l/itqsdJa9445qzsio5",
      "include_colab_link": true
    },
    "kernelspec": {
      "name": "python3",
      "display_name": "Python 3"
    }
  },
  "cells": [
    {
      "cell_type": "markdown",
      "metadata": {
        "id": "view-in-github",
        "colab_type": "text"
      },
      "source": [
        "<a href=\"https://colab.research.google.com/github/Sushmaswaraj2020/Sushma_2020/blob/master/assignment10.ipynb\" target=\"_parent\"><img src=\"https://colab.research.google.com/assets/colab-badge.svg\" alt=\"Open In Colab\"/></a>"
      ]
    },
    {
      "cell_type": "code",
      "metadata": {
        "id": "JJSQRzmDQgE_",
        "colab_type": "code",
        "colab": {
          "base_uri": "https://localhost:8080/",
          "height": 51
        },
        "outputId": "569dff79-dd75-4398-cbda-1600664a786b"
      },
      "source": [
        "#Python program to clone or copy a list. \n",
        "def Cloning(li1): \n",
        "    li_copy = li1[:] \n",
        "    return li_copy  \n",
        "li1 = [4, 8, 2, 10, 15, 18] \n",
        "li2 = Cloning(li1) \n",
        "print(\"Original List:\", li1) \n",
        "print(\"After Cloning:\", li2) "
      ],
      "execution_count": 1,
      "outputs": [
        {
          "output_type": "stream",
          "text": [
            "Original List: [4, 8, 2, 10, 15, 18]\n",
            "After Cloning: [4, 8, 2, 10, 15, 18]\n"
          ],
          "name": "stdout"
        }
      ]
    },
    {
      "cell_type": "code",
      "metadata": {
        "id": "50VYoQY8WZPf",
        "colab_type": "code",
        "colab": {
          "base_uri": "https://localhost:8080/",
          "height": 34
        },
        "outputId": "868e7462-52c1-4067-8474-e35324a40873"
      },
      "source": [
        "#Python program to print a specified list after removing the 0th, 4th and 5th elements.\n",
        "color = ['Red', 'Green', 'White', 'Black', 'Pink', 'Yellow']\n",
        "color = [x for (i,x) in enumerate(color) if i not in (0,4,5)]\n",
        "print(color)"
      ],
      "execution_count": 2,
      "outputs": [
        {
          "output_type": "stream",
          "text": [
            "['Green', 'White', 'Black']\n"
          ],
          "name": "stdout"
        }
      ]
    },
    {
      "cell_type": "code",
      "metadata": {
        "id": "yB1axgxLWsub",
        "colab_type": "code",
        "colab": {
          "base_uri": "https://localhost:8080/",
          "height": 34
        },
        "outputId": "4e0f47ff-7292-457c-b028-80182b518119"
      },
      "source": [
        "#Python program to print the numbers of a specified list after removing even numbers from it.\n",
        "num = [7,8, 120, 25, 44, 20, 27]\n",
        "num = [x for x in num if x%2!=0]\n",
        "print(num)"
      ],
      "execution_count": 3,
      "outputs": [
        {
          "output_type": "stream",
          "text": [
            "[7, 25, 27]\n"
          ],
          "name": "stdout"
        }
      ]
    },
    {
      "cell_type": "code",
      "metadata": {
        "id": "MtE5FREzXBul",
        "colab_type": "code",
        "colab": {
          "base_uri": "https://localhost:8080/",
          "height": 34
        },
        "outputId": "551b0e72-0919-43a5-c4e9-8f3e23894394"
      },
      "source": [
        "#python program to find unique elements from a list.\n",
        "def unique_list(l):\n",
        "  x = []\n",
        "  for a in l:\n",
        "    if a not in x:\n",
        "      x.append(a)\n",
        "  return x\n",
        "\n",
        "print(unique_list([1,2,3,3,3,3,4,5])) "
      ],
      "execution_count": 8,
      "outputs": [
        {
          "output_type": "stream",
          "text": [
            "[1, 2, 3, 4, 5]\n"
          ],
          "name": "stdout"
        }
      ]
    },
    {
      "cell_type": "code",
      "metadata": {
        "id": "PLPb4wjEYBJ6",
        "colab_type": "code",
        "colab": {
          "base_uri": "https://localhost:8080/",
          "height": 34
        },
        "outputId": "518ec33a-c0ef-492c-fbca-d0d1bf06c2b1"
      },
      "source": [
        "#function that checks whether a number is in a given range.\n",
        "def test_range(n):\n",
        "    if n in range(3,9):\n",
        "        print( \" %s is in the range\"%str(n))\n",
        "    else :\n",
        "        print(\"The number is outside the given range.\")\n",
        "test_range(5)"
      ],
      "execution_count": 9,
      "outputs": [
        {
          "output_type": "stream",
          "text": [
            " 5 is in the range\n"
          ],
          "name": "stdout"
        }
      ]
    },
    {
      "cell_type": "code",
      "metadata": {
        "id": "d84gvbgJYS9u",
        "colab_type": "code",
        "colab": {
          "base_uri": "https://localhost:8080/",
          "height": 34
        },
        "outputId": "ee367a99-15c1-4147-bd88-f2570966b334"
      },
      "source": [
        "#python function that accepts a string and calculates the number of upper case letters and lower case letters\n",
        "def up_low(string):\n",
        "  uppers = 0\n",
        "  lowers = 0\n",
        "  for char in string:\n",
        "    if char.islower():\n",
        "      lowers += 1\n",
        "    elif char.isupper():\n",
        "      uppers +=1\n",
        "    else: \n",
        "      pass\n",
        "  return(uppers, lowers)\n",
        "\n",
        "print(up_low('Hello Mr. Rogers, how are you this fine Tuesday?'))"
      ],
      "execution_count": 10,
      "outputs": [
        {
          "output_type": "stream",
          "text": [
            "(4, 33)\n"
          ],
          "name": "stdout"
        }
      ]
    }
  ]
}